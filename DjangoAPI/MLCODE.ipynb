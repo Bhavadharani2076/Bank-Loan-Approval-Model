{
 "cells": [
  {
   "cell_type": "code",
   "execution_count": 5,
   "metadata": {},
   "outputs": [],
   "source": [
    "import pandas as pd\n",
    "import numpy as np\n",
    "from sklearn.model_selection import train_test_split\n",
    "from sklearn.metrics import accuracy_score, confusion_matrix\n",
    "from imblearn.over_sampling import SMOTE\n",
    "from sklearn.preprocessing import MinMaxScaler\n",
    "import warnings\n",
    "from collections import Counter\n",
    "warnings.filterwarnings('ignore')\n",
    "import seaborn as sns\n",
    "import matplotlib.pyplot as plt\n",
    "from keras import Sequential\n",
    "from keras.layers import Dense"
   ]
  },
  {
   "cell_type": "code",
   "execution_count": 7,
   "metadata": {},
   "outputs": [
    {
     "data": {
      "text/plain": [
       "Counter({'Y': 332, 'N': 148})"
      ]
     },
     "execution_count": 7,
     "metadata": {},
     "output_type": "execute_result"
    }
   ],
   "source": [
    "df=pd.read_csv('C:\\\\Users\\\\Admin\\\\Desktop\\\\DjangoAPI\\\\bankloan.csv')\n",
    "df=df.drop('Loan_ID',axis=1)\n",
    "df=df.dropna()\n",
    "df['LoanAmount']=(df['LoanAmount']*1000).astype(int)\n",
    "Counter(df['Loan_Status'])"
   ]
  },
  {
   "cell_type": "code",
   "execution_count": 9,
   "metadata": {},
   "outputs": [],
   "source": [
    "pre_Y=df['Loan_Status']\n",
    "pre_X=df.drop('Loan_Status', axis=1)\n",
    "dm_Y=pre_Y.map(dict(Y=1,N=0))\n",
    "dm_X=pd.get_dummies(pre_X)"
   ]
  },
  {
   "cell_type": "code",
   "execution_count": 10,
   "metadata": {},
   "outputs": [
    {
     "name": "stdout",
     "output_type": "stream",
     "text": [
      "Dependents                   0.0\n",
      "ApplicantIncome              150\n",
      "CoapplicantIncome            0.0\n",
      "LoanAmount                  9000\n",
      "Loan_Amount_Term            36.0\n",
      "Credit_History               0.0\n",
      "Gender_Female              False\n",
      "Gender_Male                False\n",
      "Married_No                 False\n",
      "Married_Yes                False\n",
      "Education_Graduate         False\n",
      "Education_Not Graduate     False\n",
      "Self_Employed_No           False\n",
      "Self_Employed_Yes          False\n",
      "Property_Area_Rural        False\n",
      "Property_Area_Semiurban    False\n",
      "Property_Area_Urban        False\n",
      "dtype: object\n",
      "Dependents                     3.0\n",
      "ApplicantIncome              81000\n",
      "CoapplicantIncome          33837.0\n",
      "LoanAmount                  600000\n",
      "Loan_Amount_Term             480.0\n",
      "Credit_History                 1.0\n",
      "Gender_Female                 True\n",
      "Gender_Male                   True\n",
      "Married_No                    True\n",
      "Married_Yes                   True\n",
      "Education_Graduate            True\n",
      "Education_Not Graduate        True\n",
      "Self_Employed_No              True\n",
      "Self_Employed_Yes             True\n",
      "Property_Area_Rural           True\n",
      "Property_Area_Semiurban       True\n",
      "Property_Area_Urban           True\n",
      "dtype: object\n"
     ]
    }
   ],
   "source": [
    "X_min=dm_X.min(axis=0)\n",
    "X_max=dm_X.max(axis=0)\n",
    "print(X_min)\n",
    "print(X_max)"
   ]
  },
  {
   "cell_type": "code",
   "execution_count": 12,
   "metadata": {},
   "outputs": [
    {
     "data": {
      "text/plain": [
       "Counter({0: 332, 1: 332})"
      ]
     },
     "execution_count": 12,
     "metadata": {},
     "output_type": "execute_result"
    }
   ],
   "source": [
    "smote=SMOTE(random_state=42)\n",
    "X,Y = smote.fit_resample(dm_X,dm_Y)\n",
    "sc=MinMaxScaler()\n",
    "X=sc.fit_transform(X)\n",
    "Counter(Y)"
   ]
  },
  {
   "cell_type": "code",
   "execution_count": 13,
   "metadata": {},
   "outputs": [],
   "source": [
    "xtrn,xtst,ytrn,ytst=train_test_split(X,Y,test_size=0.2, random_state=42, shuffle=True)"
   ]
  },
  {
   "cell_type": "code",
   "execution_count": 14,
   "metadata": {},
   "outputs": [
    {
     "name": "stdout",
     "output_type": "stream",
     "text": [
      "WARNING:tensorflow:From C:\\Users\\Admin\\AppData\\Local\\Programs\\Python\\Python311\\Lib\\site-packages\\keras\\src\\backend.py:873: The name tf.get_default_graph is deprecated. Please use tf.compat.v1.get_default_graph instead.\n",
      "\n",
      "WARNING:tensorflow:From C:\\Users\\Admin\\AppData\\Local\\Programs\\Python\\Python311\\Lib\\site-packages\\keras\\src\\optimizers\\__init__.py:309: The name tf.train.Optimizer is deprecated. Please use tf.compat.v1.train.Optimizer instead.\n",
      "\n",
      "WARNING:tensorflow:From C:\\Users\\Admin\\AppData\\Local\\Programs\\Python\\Python311\\Lib\\site-packages\\keras\\src\\utils\\tf_utils.py:492: The name tf.ragged.RaggedTensorValue is deprecated. Please use tf.compat.v1.ragged.RaggedTensorValue instead.\n",
      "\n",
      "WARNING:tensorflow:From C:\\Users\\Admin\\AppData\\Local\\Programs\\Python\\Python311\\Lib\\site-packages\\keras\\src\\engine\\base_layer_utils.py:384: The name tf.executing_eagerly_outside_functions is deprecated. Please use tf.compat.v1.executing_eagerly_outside_functions instead.\n",
      "\n"
     ]
    },
    {
     "data": {
      "text/plain": [
       "<keras.src.callbacks.History at 0x195222b1510>"
      ]
     },
     "execution_count": 14,
     "metadata": {},
     "output_type": "execute_result"
    }
   ],
   "source": [
    "model = Sequential()\n",
    "model.add(Dense(200, activation='relu', kernel_initializer='random_normal', input_dim=xtst.shape[1]))\n",
    "model.add(Dense(400, activation='relu', kernel_initializer='random_normal'))\n",
    "model.add(Dense(4, activation='relu', kernel_initializer='random_normal'))\n",
    "model.add(Dense(1, activation='sigmoid', kernel_initializer='random_normal'))\n",
    "model.compile(optimizer='adam', loss='binary_crossentropy', metrics=['accuracy'])\n",
    "model.fit(xtrn,ytrn, batch_size=20, epochs=50, verbose=0)"
   ]
  },
  {
   "cell_type": "code",
   "execution_count": 15,
   "metadata": {},
   "outputs": [
    {
     "name": "stdout",
     "output_type": "stream",
     "text": [
      "17/17 [==============================] - 0s 6ms/step - loss: 0.2717 - accuracy: 0.9040\n",
      "[0.2717036306858063, 0.903954803943634]\n",
      "5/5 [==============================] - 0s 8ms/step - loss: 0.4842 - accuracy: 0.8045\n",
      "[0.48421651124954224, 0.8045112490653992]\n"
     ]
    }
   ],
   "source": [
    "eval_model_on_train=model.evaluate(xtrn,ytrn)\n",
    "print(eval_model_on_train)\n",
    "eval_model_on_test=model.evaluate(xtst,ytst)\n",
    "print(eval_model_on_test)"
   ]
  },
  {
   "cell_type": "code",
   "execution_count": 16,
   "metadata": {},
   "outputs": [
    {
     "name": "stdout",
     "output_type": "stream",
     "text": [
      "5/5 [==============================] - 0s 6ms/step\n"
     ]
    },
    {
     "data": {
      "image/png": "[encoded data removed]",
      "text/plain": [
       "<Figure size 640x480 with 2 Axes>"
      ]
     },
     "metadata": {},
     "output_type": "display_data"
    }
   ],
   "source": [
    "ypred=model.predict(xtst)\n",
    "ypred=(ypred>0.5)\n",
    "from sklearn.metrics import confusion_matrix\n",
    "cm=confusion_matrix(ytst,ypred)\n",
    "ax=plt.subplot()\n",
    "sns.heatmap(cm, annot=True, ax=ax);\n",
    "\n",
    "ax.set_xlabel('Predicted');\n",
    "ax.set_ylabel('Actual');\n",
    "ax.set_title('Confusion Matrix');\n",
    "ax.xaxis.set_ticklabels(['No','Yes']);\n",
    "ax.yaxis.set_ticklabels(['No','Yes']);"
   ]
  },
  {
   "cell_type": "code",
   "execution_count": 17,
   "metadata": {},
   "outputs": [
    {
     "data": {
      "text/plain": [
       "['loan_model.pkl']"
      ]
     },
     "execution_count": 17,
     "metadata": {},
     "output_type": "execute_result"
    }
   ],
   "source": [
    "import pickle\n",
    "import joblib\n",
    "joblib.dump(model,'loan_model.pkl')"
   ]
  },
  {
   "cell_type": "code",
   "execution_count": null,
   "metadata": {},
   "outputs": [],
   "source": []
  }
 ],
 "metadata": {
  "kernelspec": {
   "display_name": "Python 3 (ipykernel)",
   "language": "python",
   "name": "python3"
  },
  "language_info": {
   "codemirror_mode": {
    "name": "ipython",
    "version": 3
   },
   "file_extension": ".py",
   "mimetype": "text/x-python",
   "name": "python",
   "nbconvert_exporter": "python",
   "pygments_lexer": "ipython3",
   "version": "3.11.6"
  }
 },
 "nbformat": 4,
 "nbformat_minor": 4
}
